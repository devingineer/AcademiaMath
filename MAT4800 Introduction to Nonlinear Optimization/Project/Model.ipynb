{
 "cells": [
  {
   "cell_type": "markdown",
   "id": "77b0b434",
   "metadata": {},
   "source": [
    "# Maximizing National Welfare Under Price Controls: A Tariff Optimization Model\n",
    "### MAT 4800: Introduction to Nonlinear Optimization"
   ]
  },
  {
   "cell_type": "code",
   "execution_count": 1,
   "id": "f27df6b6",
   "metadata": {},
   "outputs": [],
   "source": [
    "import numpy as np\n",
    "from scipy.optimize import minimize\n",
    "\n",
    "# -------------------------\n",
    "# Shared Functions\n",
    "# -------------------------\n",
    "def D(p): return b_d - m_d * p ** a_d\n",
    "def S(p): return b_s + m_s * p ** a_s\n",
    "def pe(t, p_i): return p_i / (t + 1)\n",
    "\n",
    "# -------------------------\n",
    "# Welfare Objective\n",
    "# -------------------------\n",
    "def welfare(x):\n",
    "    t, p_i = x\n",
    "    p_e = pe(t, p_i)\n",
    "    return (\n",
    "        (p_f - p_e) * (D(p_i) - S(p_i))\n",
    "        - 0.5 * (p_f - p_e) * (S(p_i) - S(p_e))\n",
    "        - 0.5 * (p_f - p_e) * (D(p_e) - D(p_i))\n",
    "    )\n",
    "\n",
    "def welfare2(x):\n",
    "    t, p_i = x\n",
    "    p_e = pe(t, p_i)\n",
    "    exporter_loss = abs((S(p_f) - D(p_f)) + (S(p_e) - D(p_e)))\n",
    "    return (\n",
    "        (p_f - p_e) * (D(p_i) - S(p_i))\n",
    "        - 0.5 * (p_f - p_e) * (S(p_i) - S(p_e))\n",
    "        - 0.5 * (p_f - p_e) * (D(p_e) - D(p_i))\n",
    "        - 0.5 * (p_f - p_e) * exporter_loss\n",
    "    )"
   ]
  },
  {
   "cell_type": "markdown",
   "id": "9e101934",
   "metadata": {},
   "source": [
    "## Steel Import Optimization"
   ]
  },
  {
   "cell_type": "code",
   "execution_count": 2,
   "id": "7f826582",
   "metadata": {},
   "outputs": [
    {
     "name": "stdout",
     "output_type": "stream",
     "text": [
      "--- WITHOUT Exporter Loss ---\n",
      "Optimal tariff t: 0.9999\n",
      "Optimal price p_i: 828.4490\n",
      "Actual welfare: 2356.5556 million USD\n",
      "Import quantity (D - S): 5.4218 million tons\n",
      "\n",
      "--- WITH Exporter Loss ---\n",
      "Optimal tariff t: 0.0012\n",
      "Optimal price p_i: 849.9756\n",
      "Actual welfare (including exporter loss): 1.0055 million USD\n",
      "Import quantity (D - S): 5.3808 million tons\n"
     ]
    }
   ],
   "source": [
    "# -------------------------\n",
    "# Parameters\n",
    "# -------------------------\n",
    "p_f = 883  # Free trade price\n",
    "\n",
    "b_d = 8            # Demand intercept\n",
    "m_d = 0.001716     # Demand slope\n",
    "a_d = 1.0          # Demand curvature\n",
    "\n",
    "b_s = 1            # Supply intercept\n",
    "m_s = 0.000189     # Supply slope\n",
    "a_s = 1.0          # Supply curvature\n",
    "\n",
    "t_s = 0                 # Tariff floor\n",
    "p_s = -0.2 * p_f + p_f  # Price floor\n",
    "t_c = 1                 # Tariff cap\n",
    "p_c = 0.2 * p_f + p_f   # Price cap\n",
    "\n",
    "# -------------------------\n",
    "# Optimization Setup\n",
    "# -------------------------\n",
    "x0 = [0.1, 850]  # Initial guess\n",
    "bounds = [(t_s, t_c), (p_s, p_c)]\n",
    "\n",
    "# -------------------------\n",
    "# Optimization Without Exporter Loss\n",
    "# -------------------------\n",
    "print(\"--- WITHOUT Exporter Loss ---\")\n",
    "res1 = minimize(lambda x: -welfare(x), x0, bounds=bounds, method=\"trust-constr\")\n",
    "t1, p1 = res1.x\n",
    "W1_val = welfare([t1, p1])\n",
    "imports1 = D(p1) - S(p1)\n",
    "\n",
    "print(f\"Optimal tariff t: {t1:.4f}\")\n",
    "print(f\"Optimal price p_i: {p1:.4f}\")\n",
    "print(f\"Actual welfare: {W1_val:.4f} million USD\")\n",
    "print(f\"Import quantity (D - S): {imports1:.4f} million tons\\n\")\n",
    "\n",
    "# -------------------------\n",
    "# Optimization With Exporter Loss\n",
    "# -------------------------\n",
    "print(\"--- WITH Exporter Loss ---\")\n",
    "res2 = minimize(lambda x: -welfare2(x), x0, bounds=bounds, method=\"trust-constr\")\n",
    "t2, p2 = res2.x\n",
    "p_e2 = pe(t2, p2)\n",
    "W2_val = welfare2([t2, p2])\n",
    "imports2 = D(p2) - S(p2)\n",
    "\n",
    "print(f\"Optimal tariff t: {t2:.4f}\")\n",
    "print(f\"Optimal price p_i: {p2:.4f}\")\n",
    "print(f\"Actual welfare (including exporter loss): {W2_val:.4f} million USD\")\n",
    "print(f\"Import quantity (D - S): {imports2:.4f} million tons\")"
   ]
  },
  {
   "cell_type": "markdown",
   "id": "d3a1b5c2",
   "metadata": {},
   "source": [
    "## More Elastic Demand"
   ]
  },
  {
   "cell_type": "code",
   "execution_count": 3,
   "id": "e89dd0da",
   "metadata": {},
   "outputs": [
    {
     "name": "stdout",
     "output_type": "stream",
     "text": [
      "--- ELASTIC DEMAND EXAMPLE ---\n",
      "Optimal tariff t: 0.9998\n",
      "Optimal price p_i: 846.96\n",
      "Welfare: 1654.47 million USD\n",
      "Imports: 4.68 million tons\n"
     ]
    }
   ],
   "source": [
    "# -------------------------\n",
    "# Parameters\n",
    "# -------------------------\n",
    "p_f = 883\n",
    "\n",
    "# Elastic Demand function\n",
    "b_d = 10             # Higher demand intercept\n",
    "m_d = 0.005          # More elastic demand (steeper drop)\n",
    "a_d = 1.0            # Still linear\n",
    "\n",
    "# Supply function\n",
    "b_s = 1              # Same supply intercept\n",
    "m_s = 0.0001         # Flatter supply (slow to ramp up)\n",
    "a_s = 1.0\n",
    "\n",
    "# Tariff and price bounds\n",
    "t_s = 0\n",
    "p_s = 0.8 * p_f\n",
    "t_c = 1\n",
    "p_c = 1.2 * p_f\n",
    "\n",
    "# -------------------------\n",
    "# Optimization\n",
    "# -------------------------\n",
    "x0 = [0.1, 850]\n",
    "bounds = [(t_s, t_c), (p_s, p_c)]\n",
    "\n",
    "res = minimize(lambda x: -welfare(x), x0, bounds=bounds, method=\"trust-constr\")\n",
    "t_opt, p_opt = res.x\n",
    "welfare_val = welfare([t_opt, p_opt])\n",
    "imports = D(p_opt) - S(p_opt)\n",
    "\n",
    "# -------------------------\n",
    "# Output\n",
    "# -------------------------\n",
    "print(\"--- ELASTIC DEMAND EXAMPLE ---\")\n",
    "print(f\"Optimal tariff t: {t_opt:.4f}\")\n",
    "print(f\"Optimal price p_i: {p_opt:.2f}\")\n",
    "print(f\"Welfare: {welfare_val:.2f} million USD\")\n",
    "print(f\"Imports: {imports:.2f} million tons\")"
   ]
  },
  {
   "cell_type": "markdown",
   "id": "ff2cad9b",
   "metadata": {},
   "source": [
    "## Supply-Constrained Market"
   ]
  },
  {
   "cell_type": "code",
   "execution_count": null,
   "id": "762707aa",
   "metadata": {},
   "outputs": [
    {
     "name": "stdout",
     "output_type": "stream",
     "text": [
      "--- SUPPLY-CONSTRAINED EXAMPLE ---\n",
      "Optimal tariff t: 0.9999\n",
      "Optimal price p_i: 825.97\n",
      "Welfare: 2452.43 million USD\n",
      "Imports: 5.5744 million tons\n"
     ]
    }
   ],
   "source": [
    "# -------------------------\n",
    "# Parameters\n",
    "# -------------------------\n",
    "p_f = 883\n",
    "\n",
    "# Demand function\n",
    "b_d = 8\n",
    "m_d = 0.001716\n",
    "a_d = 1.0\n",
    "\n",
    "# Supply-constrained market (very inelastic - slow to increase)\n",
    "b_s = 1\n",
    "m_s = 0.00001  # Very inelastic supply\n",
    "a_s = 1.0\n",
    "\n",
    "# Tariff and price bounds\n",
    "t_s = 0\n",
    "p_s = 0.8 * p_f\n",
    "t_c = 1\n",
    "p_c = 1.2 * p_f\n",
    "\n",
    "# -------------------------\n",
    "# Optimization\n",
    "# -------------------------\n",
    "x0 = [0.1, 850]\n",
    "bounds = [(t_s, t_c), (p_s, p_c)]\n",
    "\n",
    "res = minimize(lambda x: -welfare(x), x0, bounds=bounds, method=\"trust-constr\")\n",
    "t_opt, p_opt = res.x\n",
    "welfare_val = welfare([t_opt, p_opt])\n",
    "imports = D(p_opt) - S(p_opt)\n",
    "\n",
    "# -------------------------\n",
    "# Output\n",
    "# -------------------------\n",
    "print(\"--- SUPPLY-CONSTRAINED EXAMPLE ---\")\n",
    "print(f\"Optimal tariff t: {t_opt:.4f}\")\n",
    "print(f\"Optimal price p_i: {p_opt:.2f}\")\n",
    "print(f\"Welfare: {welfare_val:.2f} million USD\")\n",
    "print(f\"Imports: {imports:.4f} million tons\")"
   ]
  },
  {
   "cell_type": "code",
   "execution_count": null,
   "id": "8a01273f",
   "metadata": {},
   "outputs": [],
   "source": []
  }
 ],
 "metadata": {
  "kernelspec": {
   "display_name": "base",
   "language": "python",
   "name": "python3"
  },
  "language_info": {
   "codemirror_mode": {
    "name": "ipython",
    "version": 3
   },
   "file_extension": ".py",
   "mimetype": "text/x-python",
   "name": "python",
   "nbconvert_exporter": "python",
   "pygments_lexer": "ipython3",
   "version": "3.12.9"
  }
 },
 "nbformat": 4,
 "nbformat_minor": 5
}
